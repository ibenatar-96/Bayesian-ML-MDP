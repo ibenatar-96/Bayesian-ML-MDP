{
  "cells": [
    {
      "cell_type": "code",
      "source": [
        "!pip install -q numpyro@git+https://github.com/pyro-ppl/numpyro\n",
        "!git clone https://github.com/ibenatar-96/Bayesian-Modelling-RL"
      ],
      "metadata": {
        "id": "oYyy8XAdOR82",
        "outputId": "5920c2f1-feba-411d-e66a-186704710655",
        "colab": {
          "base_uri": "https://localhost:8080/"
        }
      },
      "execution_count": 6,
      "outputs": [
        {
          "output_type": "stream",
          "name": "stdout",
          "text": [
            "  Preparing metadata (setup.py) ... \u001b[?25l\u001b[?25hdone\n",
            "fatal: destination path 'Bayesian-Modelling-RL' already exists and is not an empty directory.\n"
          ]
        }
      ]
    },
    {
      "cell_type": "code",
      "execution_count": 8,
      "metadata": {
        "id": "y4m9g93OM1CJ"
      },
      "outputs": [],
      "source": [
        "import numpy as np\n",
        "import numpyro\n",
        "import sys\n",
        "sys.path.append('/content/Bayesian-Modelling-RL')\n",
        "import utils\n",
        "import model_inference"
      ]
    },
    {
      "cell_type": "code",
      "source": [],
      "metadata": {
        "id": "GvYWiN33Q4Rq"
      },
      "execution_count": null,
      "outputs": []
    }
  ],
  "metadata": {
    "language_info": {
      "name": "python"
    },
    "orig_nbformat": 4,
    "colab": {
      "provenance": [],
      "machine_shape": "hm",
      "gpuType": "V100"
    },
    "accelerator": "GPU",
    "kernelspec": {
      "name": "python3",
      "display_name": "Python 3"
    }
  },
  "nbformat": 4,
  "nbformat_minor": 0
}