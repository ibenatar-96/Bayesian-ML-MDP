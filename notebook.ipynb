{
  "cells": [
    {
      "cell_type": "code",
      "source": [
        "!pip install -q numpyro@git+https://github.com/pyro-ppl/numpyro\n",
        "!git clone https://github.com/ibenatar-96/Bayesian-Modelling-RL\n",
        "%cd /content/\n",
        "%cd /content/Bayesian-Modelling-RL\n",
        "!git pull"
      ],
      "metadata": {
        "id": "oYyy8XAdOR82",
        "outputId": "32a331a9-4d84-4d4c-e590-3e1bd9ceeed7",
        "colab": {
          "base_uri": "https://localhost:8080/"
        }
      },
      "execution_count": 56,
      "outputs": [
        {
          "output_type": "stream",
          "name": "stdout",
          "text": [
            "  Preparing metadata (setup.py) ... \u001b[?25l\u001b[?25hdone\n",
            "Cloning into 'Bayesian-Modelling-RL'...\n",
            "remote: Enumerating objects: 395, done.\u001b[K\n",
            "remote: Counting objects: 100% (60/60), done.\u001b[K\n",
            "remote: Compressing objects: 100% (42/42), done.\u001b[K\n",
            "remote: Total 395 (delta 32), reused 34 (delta 13), pack-reused 335\u001b[K\n",
            "Receiving objects: 100% (395/395), 9.07 MiB | 15.19 MiB/s, done.\n",
            "Resolving deltas: 100% (231/231), done.\n",
            "/content/Bayesian-Modelling-RL\n",
            "Already up to date.\n"
          ]
        }
      ]
    },
    {
      "cell_type": "code",
      "execution_count": 57,
      "metadata": {
        "id": "y4m9g93OM1CJ"
      },
      "outputs": [],
      "source": [
        "import numpy as np\n",
        "import numpyro\n",
        "import sys\n",
        "sys.path.append('/content/Bayesian-Modelling-RL')\n",
        "import utils\n",
        "import model_inference\n",
        "import os\n",
        "import actions"
      ]
    },
    {
      "cell_type": "code",
      "source": [
        "def init_env():\n",
        "    if not os.path.isfile(utils.LOG_FILE) or utils.CLEAN_FILES:\n",
        "      print(f\"Creating / Cleaning Observations Log File: {utils.LOG_FILE}\")\n",
        "      open(utils.LOG_FILE, 'w').close()\n",
        "\n",
        "    for (func_action, action_param) in actions.Actions().get_actions():\n",
        "        if func_action not in utils.IGNORE_ACTIONS and (func_action, action_param) not in utils.INIT_MODEL_PARAMETERS:\n",
        "            utils.INIT_MODEL_PARAMETERS[(func_action, action_param)] = 1.0"
      ],
      "metadata": {
        "id": "GvYWiN33Q4Rq"
      },
      "execution_count": 58,
      "outputs": []
    }
  ],
  "metadata": {
    "language_info": {
      "name": "python"
    },
    "orig_nbformat": 4,
    "colab": {
      "provenance": [],
      "machine_shape": "hm",
      "gpuType": "V100"
    },
    "accelerator": "GPU",
    "kernelspec": {
      "name": "python3",
      "display_name": "Python 3"
    }
  },
  "nbformat": 4,
  "nbformat_minor": 0
}